{
 "cells": [
  {
   "cell_type": "code",
   "execution_count": 1,
   "metadata": {},
   "outputs": [
    {
     "name": "stdout",
     "output_type": "stream",
     "text": [
      "Number of arguments: 3 arguments.\n",
      "Argument List: ['/home/larsborm/anaconda3/envs/py27/lib/python2.7/site-packages/ipykernel_launcher.py', '-f', '/run/user/1000/jupyter/kernel-91856a57-9b14-4563-a7f3-5383ee3ca996.json']\n",
      "Device not found\n",
      "Command is: -f\n"
     ]
    }
   ],
   "source": [
    "import sys\n",
    "\n",
    "#SainSmart 16 relay board with USB HID control from here: \n",
    "#https://github.com/tatobari/hidrelaypy/blob/master/hidrelay.py\n",
    "sys.path.insert(0, '/home/larsborm/Documents/Haptic_input/hidrelaypy-master/')\n",
    "#If you get permission error on Ubuntu, add your username to the dailout group:\n",
    "# sudo usermod -a -G dialout larsborm\n",
    "import hidrelay_LB\n",
    "#Dependencies: pyusb\n",
    "import time\n",
    "import numpy as np\n",
    "import random\n",
    "import csv\n",
    "import os.path"
   ]
  },
  {
   "cell_type": "code",
   "execution_count": 3,
   "metadata": {},
   "outputs": [
    {
     "name": "stdout",
     "output_type": "stream",
     "text": [
      "Ready\n",
      "\n",
      "\n"
     ]
    }
   ],
   "source": [
    "class HapticInput:\n",
    "    '''\n",
    "    Class to give haptic inupt to user, using solonoid accuators.\n",
    "    \n",
    "    Dependencies: pyusb\n",
    "    If you encounter permission issues on Ubuntu (and similar presumably)\n",
    "    Add your username to the dailout group to gain permission:\n",
    "    sudo usermod -a -G dialout <username>\n",
    "    \n",
    "    '''\n",
    "    #Initiate and connect to Sainsmart 16 relay board with USB HID\n",
    "    # From: https://github.com/tatobari/hidrelaypy/blob/master/hidrelay.py\n",
    "    # Which is based on: https://github.com/mvines/relay\n",
    "    \n",
    "    def __init__(self):\n",
    "        self.relay = hidrelay_LB.HIDRelay(verbose=False)\n",
    "        #Alphabet\n",
    "        self.braille_numbers ={ 'z':[0,0,0,0],\n",
    "                              0: [0,1,1,1], '0': [0,1,1,1],\n",
    "                              1: [1,0,0,0], '1': [1,0,0,0],\n",
    "                              2: [1,0,1,0], '2': [1,0,1,0],\n",
    "                              3: [1,1,0,0], '3': [1,1,0,0],\n",
    "                              4: [1,1,0,1], '4': [1,1,0,1],\n",
    "                              5: [1,0,0,1], '5': [1,0,0,1],\n",
    "                              6: [1,1,1,0], '6': [1,1,1,0],\n",
    "                              7: [1,1,1,1], '7': [1,1,1,1],\n",
    "                              8: [1,0,1,1], '8': [1,0,1,1],\n",
    "                              9: [0,1,1,0], '9': [0,1,1,0]}\n",
    "\n",
    "        self.set_empty()\n",
    "        time.sleep(0.5)\n",
    "        self.set_full()\n",
    "        time.sleep(0.5)\n",
    "        self.set_empty()\n",
    "        print 'Ready\\n\\n'\n",
    "    \n",
    "    ###########################################################################################\n",
    "    #Low level functions\n",
    "    ###########################################################################################\n",
    "\n",
    "    #Message construction\n",
    "    def create_braille(self, number, show_zero=False):\n",
    "        '''\n",
    "        Create corresponding Braille pattern for four numbers.\n",
    "        Each number is made up out of four points following Braille.\n",
    "        First number in top left corner, second top right etc.\n",
    "        If number is smaler than 4 digits, padding on the left:\n",
    "        12 --> [0, 0, 1, 2] which can optionally be displayed.\n",
    "        Input:\n",
    "        `number`(int/list): Either an integer with max 4 digits or a \n",
    "            list with max four one digit numbers. Like [1,2,3,4]\n",
    "            Only positive numbers allowed.\n",
    "        `show_zero`(bool): If True, the braille version of zero will be\n",
    "            used for the added leading zeros. [0,1,1,1]. Else: [0,0,0,0]\n",
    "            If leading zeros are specified in the input they will be \n",
    "            displayed\n",
    "        Output:\n",
    "            4 by 4 numpy array containing four digits as braille numbers\n",
    "\n",
    "        '''\n",
    "        #Convert number (int/list) to list of string \n",
    "        if type(number) == int:\n",
    "            if number<0:\n",
    "                raise KeyError('Error, invalid input: \"{}\". Input can not be negative'.format(number))\n",
    "            number = [d for d in str(number)]\n",
    "            for i in range(4-len(number)):\n",
    "                if show_zero == True:\n",
    "                    number.insert(0, '0')\n",
    "                else:\n",
    "                    number.insert(0, 'z')\n",
    "\n",
    "        if type(number) == list:\n",
    "            number = [str(d) for d in number]\n",
    "            for i in range(4-len(number)):\n",
    "                if show_zero == True:\n",
    "                    number.insert(0, '0')\n",
    "                else:\n",
    "                    number.insert(0, 'z')\n",
    "\n",
    "        #Check format\n",
    "        if len(number) > 4:\n",
    "            raise KeyError ('Error, input: \"{}\" is too long. Max 4 digits'.format(number))\n",
    "\n",
    "        for i in number:\n",
    "            if len(i)>1 or i<0:\n",
    "                print 'Input creat_pattern function: {}'.format(number)\n",
    "                raise KeyError ('Error, invalid input: \"{}\". Only single positive digits allowed'.format(i))\n",
    "\n",
    "        #Convert to braille\n",
    "        number_braille = []\n",
    "        for i in number:\n",
    "            number_braille.append(self.braille_numbers[i])\n",
    "\n",
    "        #Construct pattern\n",
    "        template = [[0,0,0,0],\n",
    "                    [0,0,0,0],\n",
    "                    [0,0,0,0],\n",
    "                    [0,0,0,0]]\n",
    "\n",
    "        template[0] = [number_braille[0][0], number_braille[0][1], \n",
    "                       number_braille[1][0], number_braille[1][1]]\n",
    "        template[1] = [number_braille[0][2], number_braille[0][3], \n",
    "                       number_braille[1][2], number_braille[1][3]]\n",
    "        template[2] = [number_braille[2][0], number_braille[2][1], \n",
    "                       number_braille[3][0], number_braille[3][1]]\n",
    "        template[3] = [number_braille[2][2], number_braille[2][3], \n",
    "                       number_braille[3][2], number_braille[3][3]]\n",
    "\n",
    "        pattern = np.array(template)\n",
    "        return pattern\n",
    "    \n",
    "    \n",
    "    def create_binary(self, number):\n",
    "        \"\"\"\n",
    "        Convert number to binary and format in 4x4 array.\n",
    "        (1 is at rtop right corner.)\n",
    "         Output:\n",
    "                4 by 4 numpy array containing the numer in binary\n",
    "\n",
    "        \"\"\"\n",
    "        if not (0 <= number <= 65535 and type(number) == int):\n",
    "            raise ValueError ('Binary input number must be an integer between 0 and 65535, not: {}'.format(number))\n",
    "      \n",
    "        pattern = np.flipud(np.array([int(i) for i in'{0:016b}'.format(number)]).reshape(4,4))\n",
    "        return pattern\n",
    "\n",
    "    #Set pattern\n",
    "    def set_pattern(self, pattern): \n",
    "        \"\"\"\n",
    "        Switch relays on/off acording to pattern.\n",
    "        Input:\n",
    "        `pattern`(list/array): 4 by 4 array of zeros and ones. Eiter numpy array\n",
    "            or a list of 4 sub-lists with length 4.\n",
    "        (Will work for different sizes of arrays)\n",
    "\n",
    "        \"\"\"\n",
    "        for ir, row in enumerate(pattern):\n",
    "            for ic, col in enumerate(row):\n",
    "                relay_n = ir*len(row) + ic\n",
    "                self.relay.set(relay_n, bool(col))\n",
    "                \n",
    "    \n",
    "    def set_relay(self, relay_n, on_off):\n",
    "        \n",
    "        self.relay.set(relay_n, on_off)\n",
    "        \n",
    "    #####################################################################################################\n",
    "    #High level functions\n",
    "    #####################################################################################################\n",
    "    \n",
    "    def set_braille(self, number):\n",
    "        \"\"\"\n",
    "        Create braille 2x2 pattern with max 4 digits.\n",
    "        Each number is made up out of four points following Braille.\n",
    "        First number in top left corner, second top right etc.\n",
    "        If number is smaler than 4 digits, padding on the left:\n",
    "        12 --> [0, 0, 1, 2]\n",
    "        Input:\n",
    "        `number`(int/list): Either an integer with max 4 digits or a \n",
    "            list with max four one digit numbers. Like [1,2,3,4]\n",
    "            Only positive numbers allowed.\n",
    "\n",
    "        \"\"\"\n",
    "        self.set_pattern(self.create_braille(number))\n",
    "    \n",
    "    def set_binary(self, number):\n",
    "        \"\"\"\n",
    "        Convert number to binary (max 16 bits: 65535)\n",
    "        1 will be on relay 3\n",
    "        Input:\n",
    "            `number`(int): Number between 0 and 65535 (including)\n",
    "        \n",
    "        \"\"\"\n",
    "        self.set_pattern(self.create_binary(number))\n",
    "    \n",
    "    def set_empty(self):\n",
    "        \"\"\"\n",
    "        switch all relays off.\n",
    "\n",
    "        \"\"\"\n",
    "        pattern = [[0,0,0,0],\n",
    "                   [0,0,0,0],\n",
    "                   [0,0,0,0],\n",
    "                   [0,0,0,0]]\n",
    "        self.set_pattern(pattern)\n",
    "        \n",
    "    def set_full(self):\n",
    "        \"\"\"\n",
    "        Swich all relays on.\n",
    "\n",
    "        \"\"\"\n",
    "        pattern = [[1,1,1,1],\n",
    "                   [1,1,1,1],\n",
    "                   [1,1,1,1],\n",
    "                   [1,1,1,1]]\n",
    "        self.set_pattern(pattern)\n",
    "\n",
    "    #####################################################################################################\n",
    "    #Training functions\n",
    "    #####################################################################################################\n",
    "    \n",
    "    def performace_logfile(self):\n",
    "        \"\"\"\n",
    "        Creates a performace log file with the name: 'performance_log.csv'\n",
    "\n",
    "        \"\"\"\n",
    "        if not os.path.isfile('performance_log.csv'):\n",
    "            with open('performance_log.csv', 'w') as performance_log:\n",
    "                writer = csv.writer(performance_log)\n",
    "                writer.writerow(['date', 'encoding', 'trials_completed', 'correct', 'percentage correct %'])\n",
    "            \n",
    "    def performance_logger(self, encoding, trials, correct):\n",
    "        \"\"\"\n",
    "        Writes: 'time', 'number of trials', 'number correct' and 'percentage correct' to \n",
    "        the 'performance_log.csv' file\n",
    "\n",
    "        \"\"\"\n",
    "        with open('performance_log.csv', 'a') as performance_log:\n",
    "            writer = csv.writer(performance_log)\n",
    "            writer.writerow([time.strftime(\"%Y-%m-%d %H:%M\"), encoding, trials, correct,\n",
    "                             (float(correct)/float(trials))*100])\n",
    "    \n",
    "    def train_braille(self, number_of_digits=4):\n",
    "        \"\"\"\n",
    "        Train to recognize braille patterns.\n",
    "        Input:\n",
    "        `number_of_digits`(int): Number o digits to train with. [1-4]\n",
    "\n",
    "        \"\"\"\n",
    "        print number_of_digits\n",
    "        if number_of_digits>4 or number_of_digits<0 or type(number_of_digits) != int:\n",
    "            raise ValueError ('number_of_digits should be 1, 2, 3 or 4')\n",
    "        \n",
    "        self.performace_logfile()\n",
    "        n_trials = 0\n",
    "        n_correct = 0\n",
    "        try:\n",
    "            while True:\n",
    "                n_trials +=1\n",
    "                number = random.randint(0, int('9'*number_of_digits))\n",
    "                self.set_braille(number)\n",
    "                while True:\n",
    "                    guess = raw_input('Guess the current number: ')\n",
    "                    try:\n",
    "                        guess = int(guess)\n",
    "                        break\n",
    "                    except ValueError as e:\n",
    "                        print 'Invalid input'\n",
    "                if guess == number:\n",
    "                    print 'Correct!\\n\\n'\n",
    "                    n_correct += 1\n",
    "                else:\n",
    "                    print 'Wrong, the correct answer is: {}\\n\\n'.format(number)\n",
    "                    time.sleep(3)\n",
    "                self.set_empty()\n",
    "                time.sleep(1)\n",
    "\n",
    "        except KeyboardInterrupt:\n",
    "            self.performance_logger('Braille', n_trials, n_correct)\n",
    "            print 'Training stopped'\n",
    "            print 'Out of {} trials, {} were correct.'.format(n_trials, n_correct)\n",
    "            \n",
    "    def train_binary(self, number_of_rows=1):\n",
    "        \"\"\"\n",
    "        Train to recognize binary patterns.\n",
    "        Input:\n",
    "        `number_of_rows`(int): \n",
    "\n",
    "        \"\"\"\n",
    "        print number_of_rows\n",
    "        if number_of_rows>4 or number_of_rows<0 or type(number_of_rows) != int:\n",
    "            raise ValueError ('number_of_rows should be 1, 2, 3 or 4')\n",
    "            \n",
    "        self.performace_logfile()    \n",
    "        n_trials = 0\n",
    "        n_correct = 0\n",
    "        try:\n",
    "            while True:\n",
    "                n_trials +=1\n",
    "                number = random.randint(0, int('1111'*number_of_rows, 2))\n",
    "                self.set_binary(number)\n",
    "                while True:\n",
    "                    guess = raw_input('Guess the current number: ')\n",
    "                    try:\n",
    "                        guess = int(guess)\n",
    "                        break\n",
    "                    except ValueError as e:\n",
    "                        print 'Invalid input'\n",
    "                if guess == number:\n",
    "                    print 'Correct!\\n\\n'\n",
    "                    n_correct += 1\n",
    "                else:\n",
    "                    print 'Wrong, the correct answer is: {}\\n\\n'.format(number)\n",
    "                    time.sleep(3)\n",
    "                self.set_empty()\n",
    "                time.sleep(1)\n",
    "\n",
    "        except KeyboardInterrupt:\n",
    "            self.performance_logger('Binary', n_trials, n_correct)\n",
    "            print 'Training stopped'\n",
    "            print 'Out of {} trials, {} were correct.'.format(n_trials, n_correct)\n",
    "            \n",
    "hi = HapticInput()"
   ]
  },
  {
   "cell_type": "code",
   "execution_count": null,
   "metadata": {},
   "outputs": [
    {
     "name": "stdout",
     "output_type": "stream",
     "text": [
      "Guess the current number: 4gg\n",
      "Invalid input\n",
      "Guess the current number: 5dd\n",
      "Invalid input\n"
     ]
    }
   ],
   "source": [
    "while True:\n",
    "    guess = raw_input('Guess the current number: ')\n",
    "    try:\n",
    "        guess = int(guess)\n",
    "        print 'correct'\n",
    "        break\n",
    "    except ValueError as e:\n",
    "        print 'Invalid input'"
   ]
  },
  {
   "cell_type": "code",
   "execution_count": null,
   "metadata": {
    "collapsed": true
   },
   "outputs": [],
   "source": [
    "8 4 2 1"
   ]
  },
  {
   "cell_type": "code",
   "execution_count": 3,
   "metadata": {
    "collapsed": true
   },
   "outputs": [],
   "source": [
    "hi.set_binary(1)"
   ]
  },
  {
   "cell_type": "code",
   "execution_count": 4,
   "metadata": {
    "collapsed": true
   },
   "outputs": [],
   "source": [
    "hi.set_empty()"
   ]
  },
  {
   "cell_type": "code",
   "execution_count": 6,
   "metadata": {},
   "outputs": [
    {
     "name": "stdout",
     "output_type": "stream",
     "text": [
      "1\n",
      "Guess the current number: 12\n",
      "Wrong, the correct answer is: 14\n",
      "\n",
      "\n",
      "Guess the current number: 6\n",
      "Wrong, the correct answer is: 14\n",
      "\n",
      "\n",
      "Guess the current number: 4\n",
      "Correct!\n",
      "\n",
      "\n",
      "Guess the current number: 1\n",
      "Correct!\n",
      "\n",
      "\n",
      "Guess the current number: 3\n",
      "Wrong, the correct answer is: 5\n",
      "\n",
      "\n",
      "Guess the current number: 0\n",
      "Correct!\n",
      "\n",
      "\n",
      "Guess the current number: 7\n",
      "Wrong, the correct answer is: 13\n",
      "\n",
      "\n",
      "Guess the current number: 7\n",
      "Wrong, the correct answer is: 13\n",
      "\n",
      "\n",
      "Guess the current number: 6\n",
      "Wrong, the correct answer is: 12\n",
      "\n",
      "\n",
      "Guess the current number: 2\n",
      "Correct!\n",
      "\n",
      "\n",
      "Guess the current number: 12\n",
      "Wrong, the correct answer is: 14\n",
      "\n",
      "\n",
      "Guess the current number: 2\n",
      "Correct!\n",
      "\n",
      "\n",
      "Guess the current number: 15\n",
      "Correct!\n",
      "\n",
      "\n",
      "Guess the current number: 15\n",
      "Wrong, the correct answer is: 11\n",
      "\n",
      "\n",
      "Guess the current number: 0\n",
      "Correct!\n",
      "\n",
      "\n",
      "Guess the current number: 0\n",
      "Wrong, the correct answer is: 11\n",
      "\n",
      "\n",
      "Training stopped\n",
      "Out of 17 trials, 7 were correct.\n"
     ]
    }
   ],
   "source": [
    "hi.train_binary(number_of_rows=1)"
   ]
  },
  {
   "cell_type": "code",
   "execution_count": null,
   "metadata": {
    "collapsed": true
   },
   "outputs": [],
   "source": [
    "8 4 2 1"
   ]
  },
  {
   "cell_type": "code",
   "execution_count": 7,
   "metadata": {
    "collapsed": true
   },
   "outputs": [],
   "source": [
    "hi.set_empty()"
   ]
  },
  {
   "cell_type": "code",
   "execution_count": 9,
   "metadata": {},
   "outputs": [
    {
     "ename": "USBError",
     "evalue": "[Errno 19] No such device (it may have been disconnected)",
     "output_type": "error",
     "traceback": [
      "\u001b[0;31m---------------------------------------------------------------------------\u001b[0m",
      "\u001b[0;31mUSBError\u001b[0m                                  Traceback (most recent call last)",
      "\u001b[0;32m<ipython-input-9-3ae25bfb6946>\u001b[0m in \u001b[0;36m<module>\u001b[0;34m()\u001b[0m\n\u001b[0;32m----> 1\u001b[0;31m \u001b[0mhi\u001b[0m\u001b[0;34m.\u001b[0m\u001b[0mset_binary\u001b[0m\u001b[0;34m(\u001b[0m\u001b[0;36m1\u001b[0m\u001b[0;34m)\u001b[0m\u001b[0;34m\u001b[0m\u001b[0m\n\u001b[0m",
      "\u001b[0;32m<ipython-input-2-e03649345187>\u001b[0m in \u001b[0;36mset_binary\u001b[0;34m(self, number)\u001b[0m\n\u001b[1;32m    172\u001b[0m \u001b[0;34m\u001b[0m\u001b[0m\n\u001b[1;32m    173\u001b[0m         \"\"\"\n\u001b[0;32m--> 174\u001b[0;31m         \u001b[0mself\u001b[0m\u001b[0;34m.\u001b[0m\u001b[0mset_pattern\u001b[0m\u001b[0;34m(\u001b[0m\u001b[0mself\u001b[0m\u001b[0;34m.\u001b[0m\u001b[0mcreate_binary\u001b[0m\u001b[0;34m(\u001b[0m\u001b[0mnumber\u001b[0m\u001b[0;34m)\u001b[0m\u001b[0;34m)\u001b[0m\u001b[0;34m\u001b[0m\u001b[0m\n\u001b[0m\u001b[1;32m    175\u001b[0m \u001b[0;34m\u001b[0m\u001b[0m\n\u001b[1;32m    176\u001b[0m     \u001b[0;32mdef\u001b[0m \u001b[0mset_empty\u001b[0m\u001b[0;34m(\u001b[0m\u001b[0mself\u001b[0m\u001b[0;34m)\u001b[0m\u001b[0;34m:\u001b[0m\u001b[0;34m\u001b[0m\u001b[0m\n",
      "\u001b[0;32m<ipython-input-2-e03649345187>\u001b[0m in \u001b[0;36mset_pattern\u001b[0;34m(self, pattern)\u001b[0m\n\u001b[1;32m    138\u001b[0m             \u001b[0;32mfor\u001b[0m \u001b[0mic\u001b[0m\u001b[0;34m,\u001b[0m \u001b[0mcol\u001b[0m \u001b[0;32min\u001b[0m \u001b[0menumerate\u001b[0m\u001b[0;34m(\u001b[0m\u001b[0mrow\u001b[0m\u001b[0;34m)\u001b[0m\u001b[0;34m:\u001b[0m\u001b[0;34m\u001b[0m\u001b[0m\n\u001b[1;32m    139\u001b[0m                 \u001b[0mrelay_n\u001b[0m \u001b[0;34m=\u001b[0m \u001b[0mir\u001b[0m\u001b[0;34m*\u001b[0m\u001b[0mlen\u001b[0m\u001b[0;34m(\u001b[0m\u001b[0mrow\u001b[0m\u001b[0;34m)\u001b[0m \u001b[0;34m+\u001b[0m \u001b[0mic\u001b[0m\u001b[0;34m\u001b[0m\u001b[0m\n\u001b[0;32m--> 140\u001b[0;31m                 \u001b[0mself\u001b[0m\u001b[0;34m.\u001b[0m\u001b[0mrelay\u001b[0m\u001b[0;34m.\u001b[0m\u001b[0mset\u001b[0m\u001b[0;34m(\u001b[0m\u001b[0mrelay_n\u001b[0m\u001b[0;34m,\u001b[0m \u001b[0mbool\u001b[0m\u001b[0;34m(\u001b[0m\u001b[0mcol\u001b[0m\u001b[0;34m)\u001b[0m\u001b[0;34m)\u001b[0m\u001b[0;34m\u001b[0m\u001b[0m\n\u001b[0m\u001b[1;32m    141\u001b[0m \u001b[0;34m\u001b[0m\u001b[0m\n\u001b[1;32m    142\u001b[0m \u001b[0;34m\u001b[0m\u001b[0m\n",
      "\u001b[0;32m/home/larsborm/Documents/Haptic_input/hidrelaypy-master/hidrelay_LB.pyc\u001b[0m in \u001b[0;36mset\u001b[0;34m(self, relay_id, state)\u001b[0m\n\u001b[1;32m    194\u001b[0m              \u001b[0;32mraise\u001b[0m \u001b[0mValueError\u001b[0m\u001b[0;34m(\u001b[0m\u001b[0;34m'Invalid state: '\u001b[0m\u001b[0;34m,\u001b[0m \u001b[0mstate\u001b[0m\u001b[0;34m)\u001b[0m\u001b[0;34m\u001b[0m\u001b[0m\n\u001b[1;32m    195\u001b[0m \u001b[0;34m\u001b[0m\u001b[0m\n\u001b[0;32m--> 196\u001b[0;31m         \u001b[0mreadmask\u001b[0m \u001b[0;34m=\u001b[0m \u001b[0mself\u001b[0m\u001b[0;34m.\u001b[0m\u001b[0mread\u001b[0m\u001b[0;34m(\u001b[0m\u001b[0;34m)\u001b[0m\u001b[0;34m\u001b[0m\u001b[0m\n\u001b[0m\u001b[1;32m    197\u001b[0m         \u001b[0;32mif\u001b[0m \u001b[0mself\u001b[0m\u001b[0;34m.\u001b[0m\u001b[0mverbose\u001b[0m \u001b[0;34m==\u001b[0m \u001b[0mTrue\u001b[0m\u001b[0;34m:\u001b[0m\u001b[0;34m\u001b[0m\u001b[0m\n\u001b[1;32m    198\u001b[0m                 \u001b[0;32mprint\u001b[0m \u001b[0;34m\"Readmask: \"\u001b[0m\u001b[0;34m,\u001b[0m \u001b[0mreadmask\u001b[0m\u001b[0;34m\u001b[0m\u001b[0m\n",
      "\u001b[0;32m/home/larsborm/Documents/Haptic_input/hidrelaypy-master/hidrelay_LB.pyc\u001b[0m in \u001b[0;36mread\u001b[0;34m(self)\u001b[0m\n\u001b[1;32m    128\u001b[0m         \u001b[0mreadCmd_pack\u001b[0m \u001b[0;34m=\u001b[0m \u001b[0mself\u001b[0m\u001b[0;34m.\u001b[0m\u001b[0mpack_bytes\u001b[0m\u001b[0;34m(\u001b[0m\u001b[0mreadCmd\u001b[0m\u001b[0;34m)\u001b[0m\u001b[0;34m\u001b[0m\u001b[0m\n\u001b[1;32m    129\u001b[0m         \u001b[0;31m# assert len(self.hid.write(self.ep_out_address, readCmd_pack, 100)) == len(readCmd_pack)\u001b[0m\u001b[0;34m\u001b[0m\u001b[0;34m\u001b[0m\u001b[0m\n\u001b[0;32m--> 130\u001b[0;31m         \u001b[0mself\u001b[0m\u001b[0;34m.\u001b[0m\u001b[0mhid\u001b[0m\u001b[0;34m.\u001b[0m\u001b[0mwrite\u001b[0m\u001b[0;34m(\u001b[0m\u001b[0mself\u001b[0m\u001b[0;34m.\u001b[0m\u001b[0mep_out_address\u001b[0m\u001b[0;34m,\u001b[0m \u001b[0mreadCmd_pack\u001b[0m\u001b[0;34m,\u001b[0m \u001b[0;36m100\u001b[0m\u001b[0;34m)\u001b[0m\u001b[0;34m\u001b[0m\u001b[0m\n\u001b[0m\u001b[1;32m    131\u001b[0m \u001b[0;34m\u001b[0m\u001b[0m\n\u001b[1;32m    132\u001b[0m         \u001b[0mdata_pack\u001b[0m \u001b[0;34m=\u001b[0m \u001b[0mself\u001b[0m\u001b[0;34m.\u001b[0m\u001b[0mhid\u001b[0m\u001b[0;34m.\u001b[0m\u001b[0mread\u001b[0m\u001b[0;34m(\u001b[0m\u001b[0mself\u001b[0m\u001b[0;34m.\u001b[0m\u001b[0mep_in_address\u001b[0m\u001b[0;34m,\u001b[0m \u001b[0mself\u001b[0m\u001b[0;34m.\u001b[0m\u001b[0mpacket_len\u001b[0m\u001b[0;34m,\u001b[0m \u001b[0;36m100\u001b[0m\u001b[0;34m)\u001b[0m\u001b[0;34m\u001b[0m\u001b[0m\n",
      "\u001b[0;32m/home/larsborm/anaconda3/envs/py27/lib/python2.7/site-packages/usb/core.pyc\u001b[0m in \u001b[0;36mwrite\u001b[0;34m(self, endpoint, data, timeout)\u001b[0m\n\u001b[1;32m    946\u001b[0m                 \u001b[0mintf\u001b[0m\u001b[0;34m.\u001b[0m\u001b[0mbInterfaceNumber\u001b[0m\u001b[0;34m,\u001b[0m\u001b[0;34m\u001b[0m\u001b[0m\n\u001b[1;32m    947\u001b[0m                 \u001b[0m_interop\u001b[0m\u001b[0;34m.\u001b[0m\u001b[0mas_array\u001b[0m\u001b[0;34m(\u001b[0m\u001b[0mdata\u001b[0m\u001b[0;34m)\u001b[0m\u001b[0;34m,\u001b[0m\u001b[0;34m\u001b[0m\u001b[0m\n\u001b[0;32m--> 948\u001b[0;31m                 \u001b[0mself\u001b[0m\u001b[0;34m.\u001b[0m\u001b[0m__get_timeout\u001b[0m\u001b[0;34m(\u001b[0m\u001b[0mtimeout\u001b[0m\u001b[0;34m)\u001b[0m\u001b[0;34m\u001b[0m\u001b[0m\n\u001b[0m\u001b[1;32m    949\u001b[0m             )\n\u001b[1;32m    950\u001b[0m \u001b[0;34m\u001b[0m\u001b[0m\n",
      "\u001b[0;32m/home/larsborm/anaconda3/envs/py27/lib/python2.7/site-packages/usb/backend/libusb1.pyc\u001b[0m in \u001b[0;36mintr_write\u001b[0;34m(self, dev_handle, ep, intf, data, timeout)\u001b[0m\n\u001b[1;32m    840\u001b[0m                             \u001b[0mintf\u001b[0m\u001b[0;34m,\u001b[0m\u001b[0;34m\u001b[0m\u001b[0m\n\u001b[1;32m    841\u001b[0m                             \u001b[0mdata\u001b[0m\u001b[0;34m,\u001b[0m\u001b[0;34m\u001b[0m\u001b[0m\n\u001b[0;32m--> 842\u001b[0;31m                             timeout)\n\u001b[0m\u001b[1;32m    843\u001b[0m \u001b[0;34m\u001b[0m\u001b[0m\n\u001b[1;32m    844\u001b[0m     \u001b[0;34m@\u001b[0m\u001b[0mmethodtrace\u001b[0m\u001b[0;34m(\u001b[0m\u001b[0m_logger\u001b[0m\u001b[0;34m)\u001b[0m\u001b[0;34m\u001b[0m\u001b[0m\n",
      "\u001b[0;32m/home/larsborm/anaconda3/envs/py27/lib/python2.7/site-packages/usb/backend/libusb1.pyc\u001b[0m in \u001b[0;36m__write\u001b[0;34m(self, fn, dev_handle, ep, intf, data, timeout)\u001b[0m\n\u001b[1;32m    918\u001b[0m         \u001b[0;31m# do not assume LIBUSB_ERROR_TIMEOUT means no I/O.\u001b[0m\u001b[0;34m\u001b[0m\u001b[0;34m\u001b[0m\u001b[0m\n\u001b[1;32m    919\u001b[0m         \u001b[0;32mif\u001b[0m \u001b[0;32mnot\u001b[0m \u001b[0;34m(\u001b[0m\u001b[0mtransferred\u001b[0m\u001b[0;34m.\u001b[0m\u001b[0mvalue\u001b[0m \u001b[0;32mand\u001b[0m \u001b[0mretval\u001b[0m \u001b[0;34m==\u001b[0m \u001b[0mLIBUSB_ERROR_TIMEOUT\u001b[0m\u001b[0;34m)\u001b[0m\u001b[0;34m:\u001b[0m\u001b[0;34m\u001b[0m\u001b[0m\n\u001b[0;32m--> 920\u001b[0;31m             \u001b[0m_check\u001b[0m\u001b[0;34m(\u001b[0m\u001b[0mretval\u001b[0m\u001b[0;34m)\u001b[0m\u001b[0;34m\u001b[0m\u001b[0m\n\u001b[0m\u001b[1;32m    921\u001b[0m \u001b[0;34m\u001b[0m\u001b[0m\n\u001b[1;32m    922\u001b[0m         \u001b[0;32mreturn\u001b[0m \u001b[0mtransferred\u001b[0m\u001b[0;34m.\u001b[0m\u001b[0mvalue\u001b[0m\u001b[0;34m\u001b[0m\u001b[0m\n",
      "\u001b[0;32m/home/larsborm/anaconda3/envs/py27/lib/python2.7/site-packages/usb/backend/libusb1.pyc\u001b[0m in \u001b[0;36m_check\u001b[0;34m(ret)\u001b[0m\n\u001b[1;32m    593\u001b[0m             \u001b[0;32mraise\u001b[0m \u001b[0mNotImplementedError\u001b[0m\u001b[0;34m(\u001b[0m\u001b[0m_strerror\u001b[0m\u001b[0;34m(\u001b[0m\u001b[0mret\u001b[0m\u001b[0;34m)\u001b[0m\u001b[0;34m)\u001b[0m\u001b[0;34m\u001b[0m\u001b[0m\n\u001b[1;32m    594\u001b[0m         \u001b[0;32melse\u001b[0m\u001b[0;34m:\u001b[0m\u001b[0;34m\u001b[0m\u001b[0m\n\u001b[0;32m--> 595\u001b[0;31m             \u001b[0;32mraise\u001b[0m \u001b[0mUSBError\u001b[0m\u001b[0;34m(\u001b[0m\u001b[0m_strerror\u001b[0m\u001b[0;34m(\u001b[0m\u001b[0mret\u001b[0m\u001b[0;34m)\u001b[0m\u001b[0;34m,\u001b[0m \u001b[0mret\u001b[0m\u001b[0;34m,\u001b[0m \u001b[0m_libusb_errno\u001b[0m\u001b[0;34m[\u001b[0m\u001b[0mret\u001b[0m\u001b[0;34m]\u001b[0m\u001b[0;34m)\u001b[0m\u001b[0;34m\u001b[0m\u001b[0m\n\u001b[0m\u001b[1;32m    596\u001b[0m \u001b[0;34m\u001b[0m\u001b[0m\n\u001b[1;32m    597\u001b[0m     \u001b[0;32mreturn\u001b[0m \u001b[0mret\u001b[0m\u001b[0;34m\u001b[0m\u001b[0m\n",
      "\u001b[0;31mUSBError\u001b[0m: [Errno 19] No such device (it may have been disconnected)"
     ]
    }
   ],
   "source": [
    "hi.set_binary(1)"
   ]
  },
  {
   "cell_type": "code",
   "execution_count": 78,
   "metadata": {
    "collapsed": true
   },
   "outputs": [],
   "source": [
    "hi.set_relay(2, True)"
   ]
  },
  {
   "cell_type": "code",
   "execution_count": 47,
   "metadata": {
    "collapsed": true
   },
   "outputs": [],
   "source": [
    "hi.set_relay(0, False)"
   ]
  },
  {
   "cell_type": "code",
   "execution_count": 16,
   "metadata": {
    "collapsed": true
   },
   "outputs": [],
   "source": [
    "hi.set_relay(1, True)"
   ]
  },
  {
   "cell_type": "code",
   "execution_count": 48,
   "metadata": {
    "collapsed": true
   },
   "outputs": [],
   "source": [
    "hi.set_relay(1, False)"
   ]
  },
  {
   "cell_type": "code",
   "execution_count": 108,
   "metadata": {},
   "outputs": [
    {
     "ename": "KeyboardInterrupt",
     "evalue": "",
     "output_type": "error",
     "traceback": [
      "\u001b[0;31m---------------------------------------------------------------------------\u001b[0m",
      "\u001b[0;31mKeyboardInterrupt\u001b[0m                         Traceback (most recent call last)",
      "\u001b[0;32m<ipython-input-108-aef93f3b78c2>\u001b[0m in \u001b[0;36m<module>\u001b[0;34m()\u001b[0m\n\u001b[1;32m      3\u001b[0m     \u001b[0msleep_time\u001b[0m \u001b[0;34m=\u001b[0m \u001b[0;36m1\u001b[0m\u001b[0;34m\u001b[0m\u001b[0m\n\u001b[1;32m      4\u001b[0m     \u001b[0mhi\u001b[0m\u001b[0;34m.\u001b[0m\u001b[0mset_relay\u001b[0m\u001b[0;34m(\u001b[0m\u001b[0mnumber\u001b[0m\u001b[0;34m,\u001b[0m \u001b[0mTrue\u001b[0m\u001b[0;34m)\u001b[0m\u001b[0;34m\u001b[0m\u001b[0m\n\u001b[0;32m----> 5\u001b[0;31m     \u001b[0mtime\u001b[0m\u001b[0;34m.\u001b[0m\u001b[0msleep\u001b[0m\u001b[0;34m(\u001b[0m\u001b[0msleep_time\u001b[0m\u001b[0;34m)\u001b[0m\u001b[0;34m\u001b[0m\u001b[0m\n\u001b[0m\u001b[1;32m      6\u001b[0m     \u001b[0mhi\u001b[0m\u001b[0;34m.\u001b[0m\u001b[0mset_relay\u001b[0m\u001b[0;34m(\u001b[0m\u001b[0mnumber\u001b[0m\u001b[0;34m,\u001b[0m \u001b[0mFalse\u001b[0m\u001b[0;34m)\u001b[0m\u001b[0;34m\u001b[0m\u001b[0m\n\u001b[1;32m      7\u001b[0m     \u001b[0mtime\u001b[0m\u001b[0;34m.\u001b[0m\u001b[0msleep\u001b[0m\u001b[0;34m(\u001b[0m\u001b[0msleep_time\u001b[0m\u001b[0;34m)\u001b[0m\u001b[0;34m\u001b[0m\u001b[0m\n",
      "\u001b[0;31mKeyboardInterrupt\u001b[0m: "
     ]
    }
   ],
   "source": [
    "while True:\n",
    "    number = random.randint(0,3)\n",
    "    sleep_time = 1\n",
    "    hi.set_relay(number, True)\n",
    "    time.sleep(sleep_time)\n",
    "    hi.set_relay(number, False)\n",
    "    time.sleep(sleep_time)"
   ]
  },
  {
   "cell_type": "code",
   "execution_count": 52,
   "metadata": {},
   "outputs": [
    {
     "data": {
      "text/plain": [
       "'\\nfor i in range(10):\\n    sleep_time = .5\\n    hi.set_relay(0, True)\\n    time.sleep(sleep_time)\\n    hi.set_relay(0, False)\\n    time.sleep(sleep_time)\\nfor i in range(10):\\n    sleep_time = .1\\n    hi.set_relay(0, True)\\n    time.sleep(sleep_time)\\n    hi.set_relay(0, False)\\n    time.sleep(sleep_time)    \\nfor i in range(10):\\n    sleep_time = .05\\n    hi.set_relay(0, True)\\n    time.sleep(sleep_time)\\n    hi.set_relay(0, False)\\n    time.sleep(sleep_time)\\n    '"
      ]
     },
     "execution_count": 52,
     "metadata": {},
     "output_type": "execute_result"
    }
   ],
   "source": [
    "for i in range(20):\n",
    "    sleep_time = .2\n",
    "    hi.set_relay(0, True)\n",
    "    time.sleep(sleep_time)\n",
    "    hi.set_relay(1, True)\n",
    "    hi.set_relay(0, False)\n",
    "    time.sleep(sleep_time)\n",
    "    hi.set_relay(1, False)\n",
    "'''\n",
    "for i in range(10):\n",
    "    sleep_time = .5\n",
    "    hi.set_relay(0, True)\n",
    "    time.sleep(sleep_time)\n",
    "    hi.set_relay(0, False)\n",
    "    time.sleep(sleep_time)\n",
    "for i in range(10):\n",
    "    sleep_time = .1\n",
    "    hi.set_relay(0, True)\n",
    "    time.sleep(sleep_time)\n",
    "    hi.set_relay(0, False)\n",
    "    time.sleep(sleep_time)    \n",
    "for i in range(10):\n",
    "    sleep_time = .05\n",
    "    hi.set_relay(0, True)\n",
    "    time.sleep(sleep_time)\n",
    "    hi.set_relay(0, False)\n",
    "    time.sleep(sleep_time)\n",
    "    '''"
   ]
  },
  {
   "cell_type": "markdown",
   "metadata": {},
   "source": [
    "# Test Functions"
   ]
  },
  {
   "cell_type": "code",
   "execution_count": null,
   "metadata": {
    "collapsed": true
   },
   "outputs": [],
   "source": [
    "rel = hidrelay.HIDRelay()"
   ]
  },
  {
   "cell_type": "code",
   "execution_count": null,
   "metadata": {
    "collapsed": true
   },
   "outputs": [],
   "source": [
    "pattern = [[0,1,0,0],\n",
    "           [0,1,0,0],\n",
    "           [0,1,0,0],\n",
    "           [0,1,0,0]]"
   ]
  },
  {
   "cell_type": "code",
   "execution_count": null,
   "metadata": {
    "collapsed": true
   },
   "outputs": [],
   "source": [
    "def set_pattern(pattern): \n",
    "    \"\"\"\n",
    "    Switch relays on/off acording to pattern.\n",
    "    Input:\n",
    "    `pattern`(list/array): 4 by 4 array of zeros and ones. Eiter numpy array\n",
    "        or a list of 4 sub-lists with length 4.\n",
    "    (Will work for different sizes of arrays)\n",
    "    \n",
    "    \"\"\"\n",
    "    for ir, row in enumerate(pattern):\n",
    "        for ic, col in enumerate(row):\n",
    "            relay_n = ir*len(row) + ic\n",
    "            rel.set(relay_n, bool(col))\n",
    "            time.sleep(0)\n",
    "       \n",
    "set_pattern(pattern)"
   ]
  },
  {
   "cell_type": "code",
   "execution_count": null,
   "metadata": {
    "collapsed": true
   },
   "outputs": [],
   "source": [
    "def set_number(number):\n",
    "    \"\"\"\n",
    "    Create braille 2x2 pattern with max 4 digits.\n",
    "    Each number is made up out of four points following Braille.\n",
    "    First number in top left corner, second top right etc.\n",
    "    If number is smaler than 4 digits, padding on the left:\n",
    "    12 --> [0, 0, 1, 2]\n",
    "    Input:\n",
    "    `number`(int/list): Either an integer with max 4 digits or a \n",
    "        list with max four one digit numbers. Like [1,2,3,4]\n",
    "        Only positive numbers allowed.\n",
    "    \n",
    "    \"\"\"\n",
    "    set_pattern(create_pattern(number))\n",
    "    \n",
    "set_number(7117)"
   ]
  },
  {
   "cell_type": "code",
   "execution_count": null,
   "metadata": {
    "collapsed": true
   },
   "outputs": [],
   "source": [
    "def set_empty():\n",
    "    \"\"\"\n",
    "    switch all relays off.\n",
    "    \n",
    "    \"\"\"\n",
    "    pattern = [[0,0,0,0],\n",
    "               [0,0,0,0],\n",
    "               [0,0,0,0],\n",
    "               [0,0,0,0]]\n",
    "    set_pattern(pattern)\n",
    "\n",
    "set_empty()"
   ]
  },
  {
   "cell_type": "code",
   "execution_count": null,
   "metadata": {
    "collapsed": true
   },
   "outputs": [],
   "source": [
    "def set_full():\n",
    "    \"\"\"\n",
    "    Swich all relays on.\n",
    "    \n",
    "    \"\"\"\n",
    "    pattern = [[1,1,1,1],\n",
    "               [1,1,1,1],\n",
    "               [1,1,1,1],\n",
    "               [1,1,1,1]]\n",
    "    set_pattern(pattern)\n",
    "\n",
    "set_full()"
   ]
  },
  {
   "cell_type": "code",
   "execution_count": null,
   "metadata": {
    "collapsed": true
   },
   "outputs": [],
   "source": [
    "d = {0:12, '0':23}\n",
    "d['0']"
   ]
  },
  {
   "cell_type": "code",
   "execution_count": null,
   "metadata": {
    "collapsed": true
   },
   "outputs": [],
   "source": [
    "braille_numbers ={'z':[0,0,0,0], \n",
    "                  0: [0,1,1,1], '0': [0,1,1,1],\n",
    "                  1: [1,0,0,0], '1': [1,0,0,0],\n",
    "                  2: [1,0,1,0], '2': [1,0,1,0],\n",
    "                  3: [1,1,0,0], '3': [1,1,0,0],\n",
    "                  4: [1,1,0,1], '4': [1,1,0,1],\n",
    "                  5: [1,0,0,1], '5': [1,0,0,1],\n",
    "                  6: [1,1,1,0], '6': [1,1,1,0],\n",
    "                  7: [1,1,1,1], '7': [1,1,1,1],\n",
    "                  8: [1,0,1,1], '8': [1,0,1,1],\n",
    "                  9: [0,1,1,0], '9': [0,1,1,0]}"
   ]
  },
  {
   "cell_type": "code",
   "execution_count": null,
   "metadata": {
    "collapsed": true
   },
   "outputs": [],
   "source": [
    "def create_pattern(number, show_zero=False):\n",
    "    '''\n",
    "    Create corresponding Braille pattern for four numbers.\n",
    "    Each number is made up out of four points following Braille.\n",
    "    First number in top left corner, second top right etc.\n",
    "    If number is smaler than 4 digits, padding on the left:\n",
    "    12 --> [0, 0, 1, 2] which can optionally be displayed.\n",
    "    Input:\n",
    "    `number`(int/list): Either an integer with max 4 digits or a \n",
    "        list with max four one digit numbers. Like [1,2,3,4]\n",
    "        Only positive numbers allowed.\n",
    "    `show_zero`(bool): If True, the braille version of zero will be\n",
    "        used for the added leading zeros. [0,1,1,1]. Else: [0,0,0,0]\n",
    "        If leading zeros are specified in the input they will be \n",
    "        displayed\n",
    "    Output:\n",
    "        4 by 4 numpy array containing four digits as braille numbers\n",
    "    \n",
    "    '''\n",
    "    #Convert number (int/list) to list of string \n",
    "    if type(number) == int:\n",
    "        if number<0:\n",
    "            raise KeyError('Error, invalid input: \"{}\". Input can not be negative'.format(number))\n",
    "        number = [d for d in str(number)]\n",
    "        for i in range(4-len(number)):\n",
    "            if show_zero == True:\n",
    "                number.insert(0, '0')\n",
    "            else:\n",
    "                number.insert(0, 'z')\n",
    "            \n",
    "    if type(number) == list:\n",
    "        number = [str(d) for d in number]\n",
    "        for i in range(4-len(number)):\n",
    "            if show_zero == True:\n",
    "                number.insert(0, '0')\n",
    "            else:\n",
    "                number.insert(0, 'z')\n",
    "    \n",
    "    #Check format\n",
    "    if len(number) > 4:\n",
    "        raise KeyError ('Error, input: \"{}\" is too long. Max 4 digits'.format(number))\n",
    "        \n",
    "    for i in number:\n",
    "        if len(i)>1 or i<0:\n",
    "            print 'Input creat_pattern function: {}'.format(number)\n",
    "            raise KeyError ('Error, invalid input: \"{}\". Only single positive digits allowed'.format(i))\n",
    "    \n",
    "    #Convert to braille\n",
    "    number_braille = []\n",
    "    for i in number:\n",
    "        number_braille.append(braille_numbers[i])\n",
    "    \n",
    "    #Construct pattern\n",
    "    template = [[0,0,0,0],\n",
    "                [0,0,0,0],\n",
    "                [0,0,0,0],\n",
    "                [0,0,0,0]]\n",
    "    \n",
    "    template[0] = [number_braille[0][0], number_braille[0][1], number_braille[1][0], number_braille[1][1]]\n",
    "    template[1] = [number_braille[0][2], number_braille[0][3], number_braille[1][2], number_braille[1][3]]\n",
    "    template[2] = [number_braille[2][0], number_braille[2][1], number_braille[3][0], number_braille[3][1]]\n",
    "    template[3] = [number_braille[2][2], number_braille[2][3], number_braille[3][2], number_braille[3][3]]\n",
    "    \n",
    "    pattern = np.array(template)\n",
    "    \n",
    "    return pattern\n",
    "\n",
    "\n",
    "create_pattern([0,3,4,5])\n",
    "#numb = create_pattern(1)\n",
    "#np.array(create_pattern(7117))"
   ]
  },
  {
   "cell_type": "code",
   "execution_count": null,
   "metadata": {
    "collapsed": true
   },
   "outputs": [],
   "source": [
    "import random"
   ]
  },
  {
   "cell_type": "code",
   "execution_count": null,
   "metadata": {
    "collapsed": true
   },
   "outputs": [],
   "source": [
    "random.randint(0,9999)"
   ]
  },
  {
   "cell_type": "code",
   "execution_count": null,
   "metadata": {
    "collapsed": true
   },
   "outputs": [],
   "source": [
    "int('9'*3)"
   ]
  },
  {
   "cell_type": "code",
   "execution_count": null,
   "metadata": {
    "collapsed": true
   },
   "outputs": [],
   "source": [
    "def train(number_of_digits=4):\n",
    "    \"\"\"\n",
    "    Train to recognize the patterns.\n",
    "    Input:\n",
    "    `number_of_digits`(int): Number o digits to train with. [1-4]\n",
    "    \n",
    "    \"\"\"\n",
    "    print number_of_digits\n",
    "    if number_of_digits>4 or number_of_digits<0 or type(number_of_digits) != int:\n",
    "        raise ValueError ('number_of_digits should be 1, 2, 3 or 4')\n",
    "    \n",
    "    try:\n",
    "        while True:\n",
    "            number = random.randint(0, int('9'*number_of_digits))\n",
    "            set_number(number)\n",
    "            guess = raw_input('Guess the current number: ')\n",
    "            if guess == number:\n",
    "                print 'Correct!\\n\\n'\n",
    "            else:\n",
    "                print 'Wrong, the correct answer is: {}\\n\\n'.format(number)\n",
    "                time.sleep(5)\n",
    "            set_empty()\n",
    "        \n",
    "    except KeyboardInterrupt:\n",
    "        print 'Training stopped'\n",
    "        \n"
   ]
  },
  {
   "cell_type": "code",
   "execution_count": 84,
   "metadata": {
    "collapsed": true
   },
   "outputs": [],
   "source": [
    "def create_binary(number):\n",
    "    \"\"\"\n",
    "    Convert number to binary and format in 4x4 array.\n",
    "    (1 is at right bottom corner.)\n",
    "    \n",
    "    \"\"\"\n",
    "    if not (0 <= number <= 65535 and type(number) == int):\n",
    "        raise ValueError ('Binary input number must be an integer between 0 and 65535, not: {}'.format(number))\n",
    "        \n",
    "    pattern = np.array([int(i) for i in'{0:016b}'.format(number)]).reshape(4,4)\n",
    "    return pattern"
   ]
  },
  {
   "cell_type": "code",
   "execution_count": null,
   "metadata": {
    "collapsed": true
   },
   "outputs": [],
   "source": []
  },
  {
   "cell_type": "code",
   "execution_count": 38,
   "metadata": {
    "collapsed": true
   },
   "outputs": [],
   "source": [
    "import csv\n",
    "import os.path\n",
    "\n",
    "def performace_logfile():\n",
    "    \"\"\"\n",
    "    Creates a performace log file with the name: 'performance_log.csv'\n",
    "    \n",
    "    \"\"\"\n",
    "    if not os.path.isfile('performance_log.csv'):\n",
    "        with open('performance_log.csv', 'w') as performance_log:\n",
    "            writer = csv.writer(performance_log)\n",
    "            writer.writerow(['date', 'trials_completed', 'correct', 'percentage correct %'])"
   ]
  },
  {
   "cell_type": "code",
   "execution_count": null,
   "metadata": {
    "collapsed": true
   },
   "outputs": [],
   "source": []
  },
  {
   "cell_type": "code",
   "execution_count": 59,
   "metadata": {},
   "outputs": [
    {
     "name": "stdout",
     "output_type": "stream",
     "text": [
      "()\n"
     ]
    }
   ],
   "source": [
    "def performance_logger(trials, correct):\n",
    "    \"\"\"\n",
    "    Writes: 'time', 'number of trials', 'number correct' and 'percentage correct' to \n",
    "    the 'performance_log.csv' file\n",
    "    \n",
    "    \"\"\"\n",
    "    with open('performance_log.csv', 'a') as performance_log:\n",
    "        writer = csv.writer(performance_log)\n",
    "        writer.writerow([time.strftime(\"%Y-%m-%d %H:%M\"), trials, correct, (float(correct)/float(trials))*100])\n",
    "        print()\n",
    "        \n",
    "performance_logger(45, 24)\n"
   ]
  },
  {
   "cell_type": "code",
   "execution_count": 46,
   "metadata": {},
   "outputs": [
    {
     "data": {
      "text/plain": [
       "0"
      ]
     },
     "execution_count": 46,
     "metadata": {},
     "output_type": "execute_result"
    }
   ],
   "source": [
    "25/50"
   ]
  },
  {
   "cell_type": "code",
   "execution_count": null,
   "metadata": {
    "collapsed": true
   },
   "outputs": [],
   "source": []
  },
  {
   "cell_type": "code",
   "execution_count": null,
   "metadata": {
    "collapsed": true
   },
   "outputs": [],
   "source": []
  },
  {
   "cell_type": "code",
   "execution_count": null,
   "metadata": {
    "collapsed": true
   },
   "outputs": [],
   "source": []
  }
 ],
 "metadata": {
  "kernelspec": {
   "display_name": "Python 2",
   "language": "python",
   "name": "python2"
  },
  "language_info": {
   "codemirror_mode": {
    "name": "ipython",
    "version": 2
   },
   "file_extension": ".py",
   "mimetype": "text/x-python",
   "name": "python",
   "nbconvert_exporter": "python",
   "pygments_lexer": "ipython2",
   "version": "2.7.13"
  }
 },
 "nbformat": 4,
 "nbformat_minor": 2
}
